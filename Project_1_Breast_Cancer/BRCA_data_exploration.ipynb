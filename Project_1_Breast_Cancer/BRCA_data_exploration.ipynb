{
 "cells": [
  {
   "attachments": {},
   "cell_type": "markdown",
   "metadata": {},
   "source": [
    "# Breast Cancer Data Analysis Project\n",
    "\n",
    "This Juptyer Notebook contains data science exericses pertaining to the Breast Cancer Data set in order to find trends and more information about the data. "
   ]
  },
  {
   "cell_type": "code",
   "execution_count": 67,
   "metadata": {},
   "outputs": [],
   "source": [
    "# Packages used in this exercise.\n",
    "import numpy as np\n",
    "import matplotlib.pyplot as plt\n",
    "import pandas as pd\n",
    "import seaborn as sns\n",
    "from scipy import stats"
   ]
  },
  {
   "attachments": {},
   "cell_type": "markdown",
   "metadata": {},
   "source": [
    "## Exploratory Data Analysis\n",
    "\n",
    "The csv file is read into the notebook using the `pandas` package. Then, the first 5 rows are shown below using the `.head()` function."
   ]
  },
  {
   "cell_type": "code",
   "execution_count": 68,
   "metadata": {},
   "outputs": [
    {
     "name": "stdout",
     "output_type": "stream",
     "text": [
      "The total number of patients in the dataset is 341.\n"
     ]
    },
    {
     "data": {
      "text/html": [
       "<div>\n",
       "<style scoped>\n",
       "    .dataframe tbody tr th:only-of-type {\n",
       "        vertical-align: middle;\n",
       "    }\n",
       "\n",
       "    .dataframe tbody tr th {\n",
       "        vertical-align: top;\n",
       "    }\n",
       "\n",
       "    .dataframe thead th {\n",
       "        text-align: right;\n",
       "    }\n",
       "</style>\n",
       "<table border=\"1\" class=\"dataframe\">\n",
       "  <thead>\n",
       "    <tr style=\"text-align: right;\">\n",
       "      <th></th>\n",
       "      <th>Patient_ID</th>\n",
       "      <th>Age</th>\n",
       "      <th>Gender</th>\n",
       "      <th>Protein1</th>\n",
       "      <th>Protein2</th>\n",
       "      <th>Protein3</th>\n",
       "      <th>Protein4</th>\n",
       "      <th>Tumour_Stage</th>\n",
       "      <th>Histology</th>\n",
       "      <th>ER status</th>\n",
       "      <th>PR status</th>\n",
       "      <th>HER2 status</th>\n",
       "      <th>Surgery_type</th>\n",
       "      <th>Date_of_Surgery</th>\n",
       "      <th>Date_of_Last_Visit</th>\n",
       "      <th>Patient_Status</th>\n",
       "    </tr>\n",
       "  </thead>\n",
       "  <tbody>\n",
       "    <tr>\n",
       "      <th>0</th>\n",
       "      <td>TCGA-D8-A1XD</td>\n",
       "      <td>36.0</td>\n",
       "      <td>FEMALE</td>\n",
       "      <td>0.080353</td>\n",
       "      <td>0.42638</td>\n",
       "      <td>0.54715</td>\n",
       "      <td>0.273680</td>\n",
       "      <td>III</td>\n",
       "      <td>Infiltrating Ductal Carcinoma</td>\n",
       "      <td>Positive</td>\n",
       "      <td>Positive</td>\n",
       "      <td>Negative</td>\n",
       "      <td>Modified Radical Mastectomy</td>\n",
       "      <td>15-Jan-17</td>\n",
       "      <td>19-Jun-17</td>\n",
       "      <td>Alive</td>\n",
       "    </tr>\n",
       "    <tr>\n",
       "      <th>1</th>\n",
       "      <td>TCGA-EW-A1OX</td>\n",
       "      <td>43.0</td>\n",
       "      <td>FEMALE</td>\n",
       "      <td>-0.420320</td>\n",
       "      <td>0.57807</td>\n",
       "      <td>0.61447</td>\n",
       "      <td>-0.031505</td>\n",
       "      <td>II</td>\n",
       "      <td>Mucinous Carcinoma</td>\n",
       "      <td>Positive</td>\n",
       "      <td>Positive</td>\n",
       "      <td>Negative</td>\n",
       "      <td>Lumpectomy</td>\n",
       "      <td>26-Apr-17</td>\n",
       "      <td>09-Nov-18</td>\n",
       "      <td>Dead</td>\n",
       "    </tr>\n",
       "    <tr>\n",
       "      <th>2</th>\n",
       "      <td>TCGA-A8-A079</td>\n",
       "      <td>69.0</td>\n",
       "      <td>FEMALE</td>\n",
       "      <td>0.213980</td>\n",
       "      <td>1.31140</td>\n",
       "      <td>-0.32747</td>\n",
       "      <td>-0.234260</td>\n",
       "      <td>III</td>\n",
       "      <td>Infiltrating Ductal Carcinoma</td>\n",
       "      <td>Positive</td>\n",
       "      <td>Positive</td>\n",
       "      <td>Negative</td>\n",
       "      <td>Other</td>\n",
       "      <td>08-Sep-17</td>\n",
       "      <td>09-Jun-18</td>\n",
       "      <td>Alive</td>\n",
       "    </tr>\n",
       "    <tr>\n",
       "      <th>3</th>\n",
       "      <td>TCGA-D8-A1XR</td>\n",
       "      <td>56.0</td>\n",
       "      <td>FEMALE</td>\n",
       "      <td>0.345090</td>\n",
       "      <td>-0.21147</td>\n",
       "      <td>-0.19304</td>\n",
       "      <td>0.124270</td>\n",
       "      <td>II</td>\n",
       "      <td>Infiltrating Ductal Carcinoma</td>\n",
       "      <td>Positive</td>\n",
       "      <td>Positive</td>\n",
       "      <td>Negative</td>\n",
       "      <td>Modified Radical Mastectomy</td>\n",
       "      <td>25-Jan-17</td>\n",
       "      <td>12-Jul-17</td>\n",
       "      <td>Alive</td>\n",
       "    </tr>\n",
       "    <tr>\n",
       "      <th>4</th>\n",
       "      <td>TCGA-BH-A0BF</td>\n",
       "      <td>56.0</td>\n",
       "      <td>FEMALE</td>\n",
       "      <td>0.221550</td>\n",
       "      <td>1.90680</td>\n",
       "      <td>0.52045</td>\n",
       "      <td>-0.311990</td>\n",
       "      <td>II</td>\n",
       "      <td>Infiltrating Ductal Carcinoma</td>\n",
       "      <td>Positive</td>\n",
       "      <td>Positive</td>\n",
       "      <td>Negative</td>\n",
       "      <td>Other</td>\n",
       "      <td>06-May-17</td>\n",
       "      <td>27-Jun-19</td>\n",
       "      <td>Dead</td>\n",
       "    </tr>\n",
       "  </tbody>\n",
       "</table>\n",
       "</div>"
      ],
      "text/plain": [
       "     Patient_ID   Age  Gender  Protein1  Protein2  Protein3  Protein4  \\\n",
       "0  TCGA-D8-A1XD  36.0  FEMALE  0.080353   0.42638   0.54715  0.273680   \n",
       "1  TCGA-EW-A1OX  43.0  FEMALE -0.420320   0.57807   0.61447 -0.031505   \n",
       "2  TCGA-A8-A079  69.0  FEMALE  0.213980   1.31140  -0.32747 -0.234260   \n",
       "3  TCGA-D8-A1XR  56.0  FEMALE  0.345090  -0.21147  -0.19304  0.124270   \n",
       "4  TCGA-BH-A0BF  56.0  FEMALE  0.221550   1.90680   0.52045 -0.311990   \n",
       "\n",
       "  Tumour_Stage                      Histology ER status PR status HER2 status  \\\n",
       "0          III  Infiltrating Ductal Carcinoma  Positive  Positive    Negative   \n",
       "1           II             Mucinous Carcinoma  Positive  Positive    Negative   \n",
       "2          III  Infiltrating Ductal Carcinoma  Positive  Positive    Negative   \n",
       "3           II  Infiltrating Ductal Carcinoma  Positive  Positive    Negative   \n",
       "4           II  Infiltrating Ductal Carcinoma  Positive  Positive    Negative   \n",
       "\n",
       "                  Surgery_type Date_of_Surgery Date_of_Last_Visit  \\\n",
       "0  Modified Radical Mastectomy       15-Jan-17          19-Jun-17   \n",
       "1                   Lumpectomy       26-Apr-17          09-Nov-18   \n",
       "2                        Other       08-Sep-17          09-Jun-18   \n",
       "3  Modified Radical Mastectomy       25-Jan-17          12-Jul-17   \n",
       "4                        Other       06-May-17          27-Jun-19   \n",
       "\n",
       "  Patient_Status  \n",
       "0          Alive  \n",
       "1           Dead  \n",
       "2          Alive  \n",
       "3          Alive  \n",
       "4           Dead  "
      ]
     },
     "execution_count": 68,
     "metadata": {},
     "output_type": "execute_result"
    }
   ],
   "source": [
    "df = pd.read_csv('BRCA.csv')\n",
    "print(\"The total number of patients in the dataset is {}.\".format(len(df)))\n",
    "df.head()\n"
   ]
  },
  {
   "cell_type": "code",
   "execution_count": 69,
   "metadata": {},
   "outputs": [
    {
     "data": {
      "text/html": [
       "<div>\n",
       "<style scoped>\n",
       "    .dataframe tbody tr th:only-of-type {\n",
       "        vertical-align: middle;\n",
       "    }\n",
       "\n",
       "    .dataframe tbody tr th {\n",
       "        vertical-align: top;\n",
       "    }\n",
       "\n",
       "    .dataframe thead th {\n",
       "        text-align: right;\n",
       "    }\n",
       "</style>\n",
       "<table border=\"1\" class=\"dataframe\">\n",
       "  <thead>\n",
       "    <tr style=\"text-align: right;\">\n",
       "      <th></th>\n",
       "      <th>Patient_ID</th>\n",
       "      <th>Age</th>\n",
       "      <th>Gender</th>\n",
       "      <th>Protein1</th>\n",
       "      <th>Protein2</th>\n",
       "      <th>Protein3</th>\n",
       "      <th>Protein4</th>\n",
       "      <th>Tumour_Stage</th>\n",
       "      <th>Histology</th>\n",
       "      <th>ER status</th>\n",
       "      <th>PR status</th>\n",
       "      <th>HER2 status</th>\n",
       "      <th>Surgery_type</th>\n",
       "      <th>Date_of_Surgery</th>\n",
       "      <th>Date_of_Last_Visit</th>\n",
       "      <th>Patient_Status</th>\n",
       "    </tr>\n",
       "  </thead>\n",
       "  <tbody>\n",
       "    <tr>\n",
       "      <th>336</th>\n",
       "      <td>NaN</td>\n",
       "      <td>NaN</td>\n",
       "      <td>NaN</td>\n",
       "      <td>NaN</td>\n",
       "      <td>NaN</td>\n",
       "      <td>NaN</td>\n",
       "      <td>NaN</td>\n",
       "      <td>NaN</td>\n",
       "      <td>NaN</td>\n",
       "      <td>NaN</td>\n",
       "      <td>NaN</td>\n",
       "      <td>NaN</td>\n",
       "      <td>NaN</td>\n",
       "      <td>NaN</td>\n",
       "      <td>NaN</td>\n",
       "      <td>NaN</td>\n",
       "    </tr>\n",
       "    <tr>\n",
       "      <th>337</th>\n",
       "      <td>NaN</td>\n",
       "      <td>NaN</td>\n",
       "      <td>NaN</td>\n",
       "      <td>NaN</td>\n",
       "      <td>NaN</td>\n",
       "      <td>NaN</td>\n",
       "      <td>NaN</td>\n",
       "      <td>NaN</td>\n",
       "      <td>NaN</td>\n",
       "      <td>NaN</td>\n",
       "      <td>NaN</td>\n",
       "      <td>NaN</td>\n",
       "      <td>NaN</td>\n",
       "      <td>NaN</td>\n",
       "      <td>NaN</td>\n",
       "      <td>NaN</td>\n",
       "    </tr>\n",
       "    <tr>\n",
       "      <th>338</th>\n",
       "      <td>NaN</td>\n",
       "      <td>NaN</td>\n",
       "      <td>NaN</td>\n",
       "      <td>NaN</td>\n",
       "      <td>NaN</td>\n",
       "      <td>NaN</td>\n",
       "      <td>NaN</td>\n",
       "      <td>NaN</td>\n",
       "      <td>NaN</td>\n",
       "      <td>NaN</td>\n",
       "      <td>NaN</td>\n",
       "      <td>NaN</td>\n",
       "      <td>NaN</td>\n",
       "      <td>NaN</td>\n",
       "      <td>NaN</td>\n",
       "      <td>NaN</td>\n",
       "    </tr>\n",
       "    <tr>\n",
       "      <th>339</th>\n",
       "      <td>NaN</td>\n",
       "      <td>NaN</td>\n",
       "      <td>NaN</td>\n",
       "      <td>NaN</td>\n",
       "      <td>NaN</td>\n",
       "      <td>NaN</td>\n",
       "      <td>NaN</td>\n",
       "      <td>NaN</td>\n",
       "      <td>NaN</td>\n",
       "      <td>NaN</td>\n",
       "      <td>NaN</td>\n",
       "      <td>NaN</td>\n",
       "      <td>NaN</td>\n",
       "      <td>NaN</td>\n",
       "      <td>NaN</td>\n",
       "      <td>NaN</td>\n",
       "    </tr>\n",
       "    <tr>\n",
       "      <th>340</th>\n",
       "      <td>NaN</td>\n",
       "      <td>NaN</td>\n",
       "      <td>NaN</td>\n",
       "      <td>NaN</td>\n",
       "      <td>NaN</td>\n",
       "      <td>NaN</td>\n",
       "      <td>NaN</td>\n",
       "      <td>NaN</td>\n",
       "      <td>NaN</td>\n",
       "      <td>NaN</td>\n",
       "      <td>NaN</td>\n",
       "      <td>NaN</td>\n",
       "      <td>NaN</td>\n",
       "      <td>NaN</td>\n",
       "      <td>NaN</td>\n",
       "      <td>NaN</td>\n",
       "    </tr>\n",
       "  </tbody>\n",
       "</table>\n",
       "</div>"
      ],
      "text/plain": [
       "    Patient_ID  Age Gender  Protein1  Protein2  Protein3  Protein4  \\\n",
       "336        NaN  NaN    NaN       NaN       NaN       NaN       NaN   \n",
       "337        NaN  NaN    NaN       NaN       NaN       NaN       NaN   \n",
       "338        NaN  NaN    NaN       NaN       NaN       NaN       NaN   \n",
       "339        NaN  NaN    NaN       NaN       NaN       NaN       NaN   \n",
       "340        NaN  NaN    NaN       NaN       NaN       NaN       NaN   \n",
       "\n",
       "    Tumour_Stage Histology ER status PR status HER2 status Surgery_type  \\\n",
       "336          NaN       NaN       NaN       NaN         NaN          NaN   \n",
       "337          NaN       NaN       NaN       NaN         NaN          NaN   \n",
       "338          NaN       NaN       NaN       NaN         NaN          NaN   \n",
       "339          NaN       NaN       NaN       NaN         NaN          NaN   \n",
       "340          NaN       NaN       NaN       NaN         NaN          NaN   \n",
       "\n",
       "    Date_of_Surgery Date_of_Last_Visit Patient_Status  \n",
       "336             NaN                NaN            NaN  \n",
       "337             NaN                NaN            NaN  \n",
       "338             NaN                NaN            NaN  \n",
       "339             NaN                NaN            NaN  \n",
       "340             NaN                NaN            NaN  "
      ]
     },
     "execution_count": 69,
     "metadata": {},
     "output_type": "execute_result"
    }
   ],
   "source": [
    "df.tail()"
   ]
  },
  {
   "attachments": {},
   "cell_type": "markdown",
   "metadata": {},
   "source": [
    "### Data Cleaning\n",
    "\n",
    "As shown above, there are some rows and columns with `NaN` values. Therefore, we will clean the data by removing rows and columns that have `NaN` values."
   ]
  },
  {
   "cell_type": "code",
   "execution_count": 70,
   "metadata": {},
   "outputs": [
    {
     "name": "stdout",
     "output_type": "stream",
     "text": [
      "Actually, there are 317 patients in the dataset after data cleaning\n"
     ]
    }
   ],
   "source": [
    "df_cleaned = df.dropna()\n",
    "print(\"Actually, there are {} patients in the dataset after data cleaning\".format(len(df_cleaned)))"
   ]
  },
  {
   "attachments": {},
   "cell_type": "markdown",
   "metadata": {},
   "source": [
    "## Data Analysis\n",
    "\n",
    "**Question: What is the minimum age, maximum age, median age, mean age, and mode age of the dataset?**"
   ]
  },
  {
   "cell_type": "code",
   "execution_count": 71,
   "metadata": {},
   "outputs": [
    {
     "name": "stdout",
     "output_type": "stream",
     "text": [
      "Patient Age Statistics\n",
      "Min: 29.0\n",
      "Max: 90.0\n",
      "Median: 58.0\n",
      "Mean: 58.73\n",
      "Mode: 59.0\n"
     ]
    }
   ],
   "source": [
    "print(\"Patient Age Statistics\")\n",
    "print(\"Min: {}\".format(np.min(df_cleaned['Age'])))\n",
    "print(\"Max: {}\".format(np.max(df_cleaned['Age'])))\n",
    "print(\"Median: {}\".format(np.median(df_cleaned['Age'])))\n",
    "print(\"Mean: {:.2f}\".format(np.average(df_cleaned['Age']))) #:.2f formats the number such that it has up to 2 decimal points\n",
    "print(\"Mode: {}\".format(stats.mode(df_cleaned['Age']).mode[0]))"
   ]
  },
  {
   "attachments": {},
   "cell_type": "markdown",
   "metadata": {},
   "source": [
    "**Question: What is the time difference between the surgery date and the last visit date? Create a new column that calculates the time difference**\n",
    "**in days and find the longest time difference for a patient that is currently alive. Is the patient alive or dead?**"
   ]
  },
  {
   "cell_type": "code",
   "execution_count": 72,
   "metadata": {},
   "outputs": [
    {
     "name": "stdout",
     "output_type": "stream",
     "text": [
      "The longest time difference between visits is 3019 days and this patient is Dead.\n"
     ]
    },
    {
     "name": "stderr",
     "output_type": "stream",
     "text": [
      "/var/folders/gy/1f1fznt902v9q08yln7xz4vc0000gn/T/ipykernel_50043/3752803843.py:1: SettingWithCopyWarning: \n",
      "A value is trying to be set on a copy of a slice from a DataFrame.\n",
      "Try using .loc[row_indexer,col_indexer] = value instead\n",
      "\n",
      "See the caveats in the documentation: https://pandas.pydata.org/pandas-docs/stable/user_guide/indexing.html#returning-a-view-versus-a-copy\n",
      "  df_cleaned['Time Difference'] = (pd.to_datetime(df_cleaned['Date_of_Last_Visit']) - pd.to_datetime(df_cleaned['Date_of_Surgery'])).dt.days\n"
     ]
    }
   ],
   "source": [
    "df_cleaned['Time Difference'] = (pd.to_datetime(df_cleaned['Date_of_Last_Visit']) - pd.to_datetime(df_cleaned['Date_of_Surgery'])).dt.days\n",
    "# pd.to_datetime() converts the column into datetime objects to obtain the time delta\n",
    "df_cleaned.head()\n",
    "max_time_diff = np.max(df_cleaned['Time Difference'])\n",
    "max_time_index = df_cleaned['Time Difference'].idxmax()\n",
    "row_max_time = df_cleaned.loc[max_time_index]\n",
    "print(\"The longest time difference between visits is {} days and this patient is {}.\".format(max_time_diff, row_max_time['Patient_Status']))"
   ]
  },
  {
   "attachments": {},
   "cell_type": "markdown",
   "metadata": {},
   "source": [
    "**Question: How many males and females are in the dataset?**"
   ]
  },
  {
   "cell_type": "code",
   "execution_count": 73,
   "metadata": {},
   "outputs": [
    {
     "name": "stdout",
     "output_type": "stream",
     "text": [
      "There are 4 males and 313 females in the dataset.\n"
     ]
    }
   ],
   "source": [
    "num_males = len(df_cleaned[df_cleaned['Gender'] == \"MALE\"])\n",
    "num_females = len(df_cleaned[df_cleaned['Gender'] == \"FEMALE\"])\n",
    "print(\"There are {} males and {} females in the dataset.\".format(num_males, num_females))"
   ]
  },
  {
   "attachments": {},
   "cell_type": "markdown",
   "metadata": {},
   "source": [
    "**Discovery: There are also males in the dataset that have breast cancer.**\n",
    "\n",
    "**Question: What are the different histologies of the patients and how many of each are there in the dataset?**"
   ]
  },
  {
   "cell_type": "code",
   "execution_count": 74,
   "metadata": {},
   "outputs": [
    {
     "name": "stdout",
     "output_type": "stream",
     "text": [
      "Infiltrating Ductal Carcinoma     224\n",
      "Infiltrating Lobular Carcinoma     81\n",
      "Mucinous Carcinoma                 12\n",
      "Name: Histology, dtype: int64\n"
     ]
    }
   ],
   "source": [
    "histology_counts = df_cleaned['Histology'].value_counts()\n",
    "print(histology_counts)"
   ]
  },
  {
   "attachments": {},
   "cell_type": "markdown",
   "metadata": {},
   "source": [
    "**Discovery: The most common histology seen in this dataset for breast cancer is *Infiltrating Ductal Carcinoma*.**\n",
    "\n",
    "**Question: What are the highest and lowest protein expression levels for each protein.**\n"
   ]
  },
  {
   "cell_type": "code",
   "execution_count": 75,
   "metadata": {},
   "outputs": [
    {
     "name": "stdout",
     "output_type": "stream",
     "text": [
      "The minimum and maximum protein expression levels for Protein 1 are -2.14 and 1.59, respectively.\n",
      "The minimum and maximum protein expression levels for Protein 2 are -0.98 and 3.40, respectively.\n",
      "The minimum and maximum protein expression levels for Protein 3 are -1.63 and 2.19, respectively.\n",
      "The minimum and maximum protein expression levels for Protein 4 are -2.03 and 1.63, respectively.\n"
     ]
    }
   ],
   "source": [
    "for protein_num in range(1,5): # There are 4 protein expression levels reported in this dataset.\n",
    "    print(\"The minimum and maximum protein expression levels for Protein {} are {:.2f} and {:.2f}, respectively.\".format(\n",
    "        protein_num, np.min(df_cleaned['Protein{}'.format(protein_num)]), np.max(df_cleaned['Protein{}'.format(protein_num)])))\n"
   ]
  },
  {
   "attachments": {},
   "cell_type": "markdown",
   "metadata": {},
   "source": [
    "**Question: For each tumour_stage, what is the average protein expression level for each protein level?**\n",
    "**What are some trends found in the data? Present this data visually.**"
   ]
  },
  {
   "cell_type": "code",
   "execution_count": 76,
   "metadata": {},
   "outputs": [
    {
     "data": {
      "text/html": [
       "<div>\n",
       "<style scoped>\n",
       "    .dataframe tbody tr th:only-of-type {\n",
       "        vertical-align: middle;\n",
       "    }\n",
       "\n",
       "    .dataframe tbody tr th {\n",
       "        vertical-align: top;\n",
       "    }\n",
       "\n",
       "    .dataframe thead th {\n",
       "        text-align: right;\n",
       "    }\n",
       "</style>\n",
       "<table border=\"1\" class=\"dataframe\">\n",
       "  <thead>\n",
       "    <tr style=\"text-align: right;\">\n",
       "      <th></th>\n",
       "      <th>Protein1</th>\n",
       "      <th>Protein2</th>\n",
       "      <th>Protein3</th>\n",
       "      <th>Protein4</th>\n",
       "    </tr>\n",
       "    <tr>\n",
       "      <th>Tumour_Stage</th>\n",
       "      <th></th>\n",
       "      <th></th>\n",
       "      <th></th>\n",
       "      <th></th>\n",
       "    </tr>\n",
       "  </thead>\n",
       "  <tbody>\n",
       "    <tr>\n",
       "      <th>I</th>\n",
       "      <td>-0.007066</td>\n",
       "      <td>0.993546</td>\n",
       "      <td>-0.143623</td>\n",
       "      <td>0.063371</td>\n",
       "    </tr>\n",
       "    <tr>\n",
       "      <th>II</th>\n",
       "      <td>-0.008442</td>\n",
       "      <td>0.972304</td>\n",
       "      <td>-0.076174</td>\n",
       "      <td>0.005261</td>\n",
       "    </tr>\n",
       "    <tr>\n",
       "      <th>III</th>\n",
       "      <td>-0.086872</td>\n",
       "      <td>0.862104</td>\n",
       "      <td>-0.101548</td>\n",
       "      <td>-0.034042</td>\n",
       "    </tr>\n",
       "  </tbody>\n",
       "</table>\n",
       "</div>"
      ],
      "text/plain": [
       "              Protein1  Protein2  Protein3  Protein4\n",
       "Tumour_Stage                                        \n",
       "I            -0.007066  0.993546 -0.143623  0.063371\n",
       "II           -0.008442  0.972304 -0.076174  0.005261\n",
       "III          -0.086872  0.862104 -0.101548 -0.034042"
      ]
     },
     "execution_count": 76,
     "metadata": {},
     "output_type": "execute_result"
    }
   ],
   "source": [
    "# Pivot Table (values are columns, index are the rows, there is an aggreation by the mean)\n",
    "pivot_table_protein_avg = pd.pivot_table(df_cleaned, values=[\"Protein1\", \"Protein2\", \"Protein3\", \"Protein4\"], index='Tumour_Stage', aggfunc='mean')\n",
    "pivot_table_protein_avg # Allows for the table to be printed"
   ]
  },
  {
   "cell_type": "code",
   "execution_count": 77,
   "metadata": {},
   "outputs": [
    {
     "data": {
      "image/png": "[encoded data removed]",
      "text/plain": [
       "<Figure size 1000x600 with 1 Axes>"
      ]
     },
     "metadata": {},
     "output_type": "display_data"
    }
   ],
   "source": [
    "#Matplotlib is used to graph this data.\n",
    "pivot_table_protein_avg.plot(kind='bar', figsize=(10, 6), rot=0)\n",
    "plt.title('Average Protein Expression Levels by Tumour Stage')\n",
    "plt.xlabel('Tumour Stage')\n",
    "plt.ylabel('Average Protein Expression Level')\n",
    "plt.legend(title='Protein')\n",
    "plt.show()"
   ]
  },
  {
   "attachments": {},
   "cell_type": "markdown",
   "metadata": {},
   "source": [
    "**Discovery: Protein 1 is expressed more negatively in the 3rd tumour stage. Protein 2 is expressed equally in all tumour stages. Protein 3 is expressed more negatively in the 1st tumour stage. Protein 4 is expressed positively in the 1st tumour stage and negatively in the 3rd tumour stage.**\n",
    "\n",
    "**Question: Is there a correlation between the expression levels of Protein 1 and Protein 2 ?**"
   ]
  },
  {
   "cell_type": "code",
   "execution_count": 78,
   "metadata": {},
   "outputs": [
    {
     "name": "stdout",
     "output_type": "stream",
     "text": [
      "Correlation between Protein 1 and Protein 2: 0.24\n"
     ]
    }
   ],
   "source": [
    "# .corr function will calculate the correlation coefficient\n",
    "correlation_coefficient = df['Protein1'].corr(df['Protein2'])\n",
    "print(\"Correlation between Protein 1 and Protein 2: {:.2f}\".format(correlation_coefficient))"
   ]
  },
  {
   "cell_type": "code",
   "execution_count": 79,
   "metadata": {},
   "outputs": [
    {
     "data": {
      "image/png": "[encoded data removed]",
      "text/plain": [
       "<Figure size 640x480 with 1 Axes>"
      ]
     },
     "metadata": {},
     "output_type": "display_data"
    }
   ],
   "source": [
    "#Seaborn to plot the scatter plot\n",
    "sns.regplot(x='Protein1', y='Protein2', data=df_cleaned)\n",
    "plt.title('Scatter Plot with Regression Line: Protein 1 vs Protein 2')\n",
    "plt.xlabel('Protein 1 Expression Level')\n",
    "plt.ylabel('Protein 2 Expression Level')\n",
    "plt.show()"
   ]
  },
  {
   "attachments": {},
   "cell_type": "markdown",
   "metadata": {},
   "source": [
    "**Discovery: There is not significant linear relationship between the expression levels of protein 1 and protein 2.**\n",
    "\n",
    "**Question: For each tumour_stage, how many patients are alive or dead? Present this data visually.**"
   ]
  },
  {
   "cell_type": "code",
   "execution_count": 80,
   "metadata": {},
   "outputs": [
    {
     "name": "stdout",
     "output_type": "stream",
     "text": [
      "Patient_Status  Alive  Dead\n",
      "Tumour_Stage               \n",
      "I                  51     9\n",
      "II                144    36\n",
      "III                60    17\n"
     ]
    }
   ],
   "source": [
    "# Cross-tabulationg shows the count of patients for each combination of tumour stage and patient status. \n",
    "\n",
    "cross_tab = pd.crosstab(df_cleaned['Tumour_Stage'], df_cleaned['Patient_Status'])\n",
    "print(cross_tab)"
   ]
  },
  {
   "cell_type": "code",
   "execution_count": 81,
   "metadata": {},
   "outputs": [
    {
     "data": {
      "image/png": "[encoded data removed]",
      "text/plain": [
       "<Figure size 1000x600 with 1 Axes>"
      ]
     },
     "metadata": {},
     "output_type": "display_data"
    }
   ],
   "source": [
    "# Graphing a stacked bar graph\n",
    "cross_tab.plot(kind='bar', stacked=True, color=['green', 'red'], figsize=(10, 6))\n",
    "plt.title('Patient Status by Tumour Stage')\n",
    "plt.xlabel('Tumour Stage')\n",
    "plt.ylabel('Count')\n",
    "plt.legend(title='Patient Status', loc='upper right', labels=['Alive', 'Dead'])\n",
    "plt.show()"
   ]
  },
  {
   "attachments": {},
   "cell_type": "markdown",
   "metadata": {},
   "source": [
    "**Discovery: There are more patients alive in the 2rd tumour stage and more patients dead in the 2nd tumour stage.**\n",
    "\n",
    "**Question: What is the average age of patients for each Tumour Stage, grouped by their ER status?**"
   ]
  },
  {
   "cell_type": "code",
   "execution_count": 82,
   "metadata": {},
   "outputs": [
    {
     "data": {
      "text/plain": [
       "Tumour_Stage  ER status\n",
       "I             Positive     62.359375\n",
       "II            Positive     59.052910\n",
       "III           Positive     55.753086\n",
       "Name: Age, dtype: float64"
      ]
     },
     "execution_count": 82,
     "metadata": {},
     "output_type": "execute_result"
    }
   ],
   "source": [
    "avg_age_by_er_status = df.groupby(['Tumour_Stage', 'ER status'])['Age'].mean()\n",
    "avg_age_by_er_status"
   ]
  },
  {
   "attachments": {},
   "cell_type": "markdown",
   "metadata": {},
   "source": [
    "**Discovery: All patients in the dataset were seen in the ER. The average age of patients is the highest in stage I and lowest in stage III.**\n",
    "\n",
    "**Question: Is there a correlation between the type of surgery preformed and the Tumour Stage of patients?**"
   ]
  },
  {
   "cell_type": "code",
   "execution_count": 83,
   "metadata": {},
   "outputs": [
    {
     "data": {
      "text/html": [
       "<div>\n",
       "<style scoped>\n",
       "    .dataframe tbody tr th:only-of-type {\n",
       "        vertical-align: middle;\n",
       "    }\n",
       "\n",
       "    .dataframe tbody tr th {\n",
       "        vertical-align: top;\n",
       "    }\n",
       "\n",
       "    .dataframe thead th {\n",
       "        text-align: right;\n",
       "    }\n",
       "</style>\n",
       "<table border=\"1\" class=\"dataframe\">\n",
       "  <thead>\n",
       "    <tr style=\"text-align: right;\">\n",
       "      <th>Tumour_Stage</th>\n",
       "      <th>I</th>\n",
       "      <th>II</th>\n",
       "      <th>III</th>\n",
       "    </tr>\n",
       "    <tr>\n",
       "      <th>Surgery_type</th>\n",
       "      <th></th>\n",
       "      <th></th>\n",
       "      <th></th>\n",
       "    </tr>\n",
       "  </thead>\n",
       "  <tbody>\n",
       "    <tr>\n",
       "      <th>Lumpectomy</th>\n",
       "      <td>22</td>\n",
       "      <td>36</td>\n",
       "      <td>8</td>\n",
       "    </tr>\n",
       "    <tr>\n",
       "      <th>Modified Radical Mastectomy</th>\n",
       "      <td>7</td>\n",
       "      <td>45</td>\n",
       "      <td>37</td>\n",
       "    </tr>\n",
       "    <tr>\n",
       "      <th>Other</th>\n",
       "      <td>18</td>\n",
       "      <td>56</td>\n",
       "      <td>23</td>\n",
       "    </tr>\n",
       "    <tr>\n",
       "      <th>Simple Mastectomy</th>\n",
       "      <td>13</td>\n",
       "      <td>43</td>\n",
       "      <td>9</td>\n",
       "    </tr>\n",
       "  </tbody>\n",
       "</table>\n",
       "</div>"
      ],
      "text/plain": [
       "Tumour_Stage                  I  II  III\n",
       "Surgery_type                            \n",
       "Lumpectomy                   22  36    8\n",
       "Modified Radical Mastectomy   7  45   37\n",
       "Other                        18  56   23\n",
       "Simple Mastectomy            13  43    9"
      ]
     },
     "execution_count": 83,
     "metadata": {},
     "output_type": "execute_result"
    }
   ],
   "source": [
    "# Create a cross_tabulation and then run a chi-square test for independence. \n",
    "# The null hypothesis that surgery type and tumour stage are independent. \n",
    "surgery_tumour_stage_corr = pd.crosstab(df_cleaned['Surgery_type'], df_cleaned['Tumour_Stage'])\n",
    "surgery_tumour_stage_corr"
   ]
  },
  {
   "cell_type": "code",
   "execution_count": 84,
   "metadata": {},
   "outputs": [
    {
     "name": "stdout",
     "output_type": "stream",
     "text": [
      "Chi-square value: 32.62301161312376\n",
      "p-value: 0.00001\n"
     ]
    }
   ],
   "source": [
    "from scipy.stats import chi2_contingency\n",
    "chi2, p, _, _ = chi2_contingency(surgery_tumour_stage_corr)\n",
    "print(\"Chi-square value: {}\".format(chi2))\n",
    "print(\"p-value: {:.5f}\".format(p))"
   ]
  },
  {
   "attachments": {},
   "cell_type": "markdown",
   "metadata": {},
   "source": [
    "**Discovery: Since the p-value is less than 0.05, this suggest that there is an association between Surgery Type and Tumour Stage.**\n",
    "\n",
    "**Question: What is the overall survival rate of patients in the dataset, and does it differ by Tumour Stage?**"
   ]
  },
  {
   "cell_type": "code",
   "execution_count": 85,
   "metadata": {},
   "outputs": [
    {
     "name": "stdout",
     "output_type": "stream",
     "text": [
      "The overall survival rate is 79.44%\n",
      "Tumour_Stage\n",
      "I      83.606557\n",
      "II     79.120879\n",
      "III    76.923077\n",
      "Name: Alive, dtype: float64\n"
     ]
    }
   ],
   "source": [
    "# For the overall survival rate, we can use the patient_status table\n",
    "overall_survival_rate = df['Patient_Status'].value_counts(normalize=True)['Alive'] * 100\n",
    "print(\"The overall survival rate is {:.2f}%\".format(overall_survival_rate))\n",
    "\n",
    "# Groupby Tumour Stage to calculate survival rate by stage\n",
    "# normalize creates a percentage \n",
    "survival_rate_by_stage = df.groupby('Tumour_Stage')['Patient_Status'].value_counts(normalize=True).unstack()['Alive'] * 100\n",
    "print(survival_rate_by_stage)"
   ]
  },
  {
   "attachments": {},
   "cell_type": "markdown",
   "metadata": {},
   "source": [
    "**Discovery: As the tumour_stage increases, the survival rate decreases.**"
   ]
  }
 ],
 "metadata": {
  "kernelspec": {
   "display_name": "base",
   "language": "python",
   "name": "python3"
  },
  "language_info": {
   "codemirror_mode": {
    "name": "ipython",
    "version": 3
   },
   "file_extension": ".py",
   "mimetype": "text/x-python",
   "name": "python",
   "nbconvert_exporter": "python",
   "pygments_lexer": "ipython3",
   "version": "3.9.7"
  },
  "orig_nbformat": 4
 },
 "nbformat": 4,
 "nbformat_minor": 2
}
