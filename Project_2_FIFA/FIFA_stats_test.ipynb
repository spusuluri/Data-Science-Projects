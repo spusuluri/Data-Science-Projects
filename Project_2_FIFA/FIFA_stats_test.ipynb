{
 "cells": [
  {
   "attachments": {},
   "cell_type": "markdown",
   "metadata": {},
   "source": [
    "# FIFA Statistical Tests\n",
    "\n",
    "In this notebook, we will run statistical tests on the data using `numpy`, `scipy`, and `pandas`. "
   ]
  },
  {
   "cell_type": "code",
   "execution_count": 34,
   "metadata": {},
   "outputs": [],
   "source": [
    "import numpy as np\n",
    "import pandas as pd\n",
    "import matplotlib.pyplot as plt\n",
    "import seaborn as sns"
   ]
  },
  {
   "cell_type": "code",
   "execution_count": 35,
   "metadata": {},
   "outputs": [
    {
     "data": {
      "text/html": [
       "<div>\n",
       "<style scoped>\n",
       "    .dataframe tbody tr th:only-of-type {\n",
       "        vertical-align: middle;\n",
       "    }\n",
       "\n",
       "    .dataframe tbody tr th {\n",
       "        vertical-align: top;\n",
       "    }\n",
       "\n",
       "    .dataframe thead th {\n",
       "        text-align: right;\n",
       "    }\n",
       "</style>\n",
       "<table border=\"1\" class=\"dataframe\">\n",
       "  <thead>\n",
       "    <tr style=\"text-align: right;\">\n",
       "      <th></th>\n",
       "      <th>photoUrl</th>\n",
       "      <th>LongName</th>\n",
       "      <th>playerUrl</th>\n",
       "      <th>Nationality</th>\n",
       "      <th>Positions</th>\n",
       "      <th>Name</th>\n",
       "      <th>Age</th>\n",
       "      <th>↓OVA</th>\n",
       "      <th>POT</th>\n",
       "      <th>Team &amp; Contract</th>\n",
       "      <th>...</th>\n",
       "      <th>Hits</th>\n",
       "      <th>Height (ft)</th>\n",
       "      <th>Height (in)</th>\n",
       "      <th>BMI</th>\n",
       "      <th>Num_Positions</th>\n",
       "      <th>Team</th>\n",
       "      <th>Contract</th>\n",
       "      <th>Month</th>\n",
       "      <th>Day</th>\n",
       "      <th>Year</th>\n",
       "    </tr>\n",
       "  </thead>\n",
       "  <tbody>\n",
       "    <tr>\n",
       "      <th>0</th>\n",
       "      <td>https://cdn.sofifa.com/players/158/023/21_60.png</td>\n",
       "      <td>Lionel Messi</td>\n",
       "      <td>http://sofifa.com/player/158023/lionel-messi/2...</td>\n",
       "      <td>Argentina</td>\n",
       "      <td>RW ST CF</td>\n",
       "      <td>L. Messi</td>\n",
       "      <td>33</td>\n",
       "      <td>93</td>\n",
       "      <td>93</td>\n",
       "      <td>FC Barcelona 2004 - 2021</td>\n",
       "      <td>...</td>\n",
       "      <td>372.0</td>\n",
       "      <td>5</td>\n",
       "      <td>7</td>\n",
       "      <td>24.900200</td>\n",
       "      <td>3</td>\n",
       "      <td>FC Barcelona</td>\n",
       "      <td>2004 - 2021</td>\n",
       "      <td>Jul</td>\n",
       "      <td>1</td>\n",
       "      <td>2004</td>\n",
       "    </tr>\n",
       "    <tr>\n",
       "      <th>1</th>\n",
       "      <td>https://cdn.sofifa.com/players/020/801/21_60.png</td>\n",
       "      <td>C. Ronaldo dos Santos Aveiro</td>\n",
       "      <td>http://sofifa.com/player/20801/c-ronaldo-dos-s...</td>\n",
       "      <td>Portugal</td>\n",
       "      <td>ST LW</td>\n",
       "      <td>Cristiano Ronaldo</td>\n",
       "      <td>35</td>\n",
       "      <td>92</td>\n",
       "      <td>92</td>\n",
       "      <td>Juventus 2018 - 2022</td>\n",
       "      <td>...</td>\n",
       "      <td>344.0</td>\n",
       "      <td>6</td>\n",
       "      <td>2</td>\n",
       "      <td>23.493243</td>\n",
       "      <td>2</td>\n",
       "      <td>Juventus</td>\n",
       "      <td>2018 - 2022</td>\n",
       "      <td>Jul</td>\n",
       "      <td>10</td>\n",
       "      <td>2018</td>\n",
       "    </tr>\n",
       "    <tr>\n",
       "      <th>2</th>\n",
       "      <td>https://cdn.sofifa.com/players/200/389/21_60.png</td>\n",
       "      <td>Jan Oblak</td>\n",
       "      <td>http://sofifa.com/player/200389/jan-oblak/210005/</td>\n",
       "      <td>Slovenia</td>\n",
       "      <td>GK</td>\n",
       "      <td>J. Oblak</td>\n",
       "      <td>27</td>\n",
       "      <td>91</td>\n",
       "      <td>93</td>\n",
       "      <td>Atlético Madrid 2014 - 2023</td>\n",
       "      <td>...</td>\n",
       "      <td>86.0</td>\n",
       "      <td>6</td>\n",
       "      <td>2</td>\n",
       "      <td>24.648649</td>\n",
       "      <td>1</td>\n",
       "      <td>Atlético Madrid</td>\n",
       "      <td>2014 - 2023</td>\n",
       "      <td>Jul</td>\n",
       "      <td>16</td>\n",
       "      <td>2014</td>\n",
       "    </tr>\n",
       "    <tr>\n",
       "      <th>3</th>\n",
       "      <td>https://cdn.sofifa.com/players/192/985/21_60.png</td>\n",
       "      <td>Kevin De Bruyne</td>\n",
       "      <td>http://sofifa.com/player/192985/kevin-de-bruyn...</td>\n",
       "      <td>Belgium</td>\n",
       "      <td>CAM CM</td>\n",
       "      <td>K. De Bruyne</td>\n",
       "      <td>29</td>\n",
       "      <td>91</td>\n",
       "      <td>91</td>\n",
       "      <td>Manchester City 2015 - 2023</td>\n",
       "      <td>...</td>\n",
       "      <td>163.0</td>\n",
       "      <td>5</td>\n",
       "      <td>11</td>\n",
       "      <td>21.476294</td>\n",
       "      <td>2</td>\n",
       "      <td>Manchester City</td>\n",
       "      <td>2015 - 2023</td>\n",
       "      <td>Aug</td>\n",
       "      <td>30</td>\n",
       "      <td>2015</td>\n",
       "    </tr>\n",
       "    <tr>\n",
       "      <th>4</th>\n",
       "      <td>https://cdn.sofifa.com/players/190/871/21_60.png</td>\n",
       "      <td>Neymar da Silva Santos Jr.</td>\n",
       "      <td>http://sofifa.com/player/190871/neymar-da-silv...</td>\n",
       "      <td>Brazil</td>\n",
       "      <td>LW CAM</td>\n",
       "      <td>Neymar Jr</td>\n",
       "      <td>28</td>\n",
       "      <td>91</td>\n",
       "      <td>91</td>\n",
       "      <td>Paris Saint-Germain 2017 - 2022</td>\n",
       "      <td>...</td>\n",
       "      <td>273.0</td>\n",
       "      <td>5</td>\n",
       "      <td>9</td>\n",
       "      <td>22.148708</td>\n",
       "      <td>2</td>\n",
       "      <td>Paris Saint-Germain</td>\n",
       "      <td>2017 - 2022</td>\n",
       "      <td>Aug</td>\n",
       "      <td>3</td>\n",
       "      <td>2017</td>\n",
       "    </tr>\n",
       "  </tbody>\n",
       "</table>\n",
       "<p>5 rows × 86 columns</p>\n",
       "</div>"
      ],
      "text/plain": [
       "                                           photoUrl  \\\n",
       "0  https://cdn.sofifa.com/players/158/023/21_60.png   \n",
       "1  https://cdn.sofifa.com/players/020/801/21_60.png   \n",
       "2  https://cdn.sofifa.com/players/200/389/21_60.png   \n",
       "3  https://cdn.sofifa.com/players/192/985/21_60.png   \n",
       "4  https://cdn.sofifa.com/players/190/871/21_60.png   \n",
       "\n",
       "                       LongName  \\\n",
       "0                  Lionel Messi   \n",
       "1  C. Ronaldo dos Santos Aveiro   \n",
       "2                     Jan Oblak   \n",
       "3               Kevin De Bruyne   \n",
       "4    Neymar da Silva Santos Jr.   \n",
       "\n",
       "                                           playerUrl Nationality Positions  \\\n",
       "0  http://sofifa.com/player/158023/lionel-messi/2...   Argentina  RW ST CF   \n",
       "1  http://sofifa.com/player/20801/c-ronaldo-dos-s...    Portugal     ST LW   \n",
       "2  http://sofifa.com/player/200389/jan-oblak/210005/    Slovenia        GK   \n",
       "3  http://sofifa.com/player/192985/kevin-de-bruyn...     Belgium    CAM CM   \n",
       "4  http://sofifa.com/player/190871/neymar-da-silv...      Brazil    LW CAM   \n",
       "\n",
       "                Name  Age  ↓OVA  POT                  Team & Contract  ...  \\\n",
       "0           L. Messi   33    93   93         FC Barcelona 2004 - 2021  ...   \n",
       "1  Cristiano Ronaldo   35    92   92             Juventus 2018 - 2022  ...   \n",
       "2           J. Oblak   27    91   93      Atlético Madrid 2014 - 2023  ...   \n",
       "3       K. De Bruyne   29    91   91      Manchester City 2015 - 2023  ...   \n",
       "4          Neymar Jr   28    91   91  Paris Saint-Germain 2017 - 2022  ...   \n",
       "\n",
       "    Hits Height (ft)  Height (in)        BMI  Num_Positions  \\\n",
       "0  372.0           5            7  24.900200              3   \n",
       "1  344.0           6            2  23.493243              2   \n",
       "2   86.0           6            2  24.648649              1   \n",
       "3  163.0           5           11  21.476294              2   \n",
       "4  273.0           5            9  22.148708              2   \n",
       "\n",
       "                   Team     Contract Month Day  Year  \n",
       "0         FC Barcelona   2004 - 2021   Jul   1  2004  \n",
       "1             Juventus   2018 - 2022   Jul  10  2018  \n",
       "2      Atlético Madrid   2014 - 2023   Jul  16  2014  \n",
       "3      Manchester City   2015 - 2023   Aug  30  2015  \n",
       "4  Paris Saint-Germain   2017 - 2022   Aug   3  2017  \n",
       "\n",
       "[5 rows x 86 columns]"
      ]
     },
     "execution_count": 35,
     "metadata": {},
     "output_type": "execute_result"
    }
   ],
   "source": [
    "df = pd.read_csv('fifa21_cleaned_data.csv')\n",
    "df.head()"
   ]
  },
  {
   "attachments": {},
   "cell_type": "markdown",
   "metadata": {},
   "source": [
    "### Statistical Test 1: Is there a significant difference in the overall rating of players from different nationalities?\n",
    "\n",
    "**Test: One-Way ANOVA** \n",
    "\n",
    "We can assume that there is a normal distirbution within each group, and that there is a homogeneity of variances.\n",
    "\n",
    "The results below are for $$ \\alpha = 0.05 $$"
   ]
  },
  {
   "cell_type": "code",
   "execution_count": 36,
   "metadata": {},
   "outputs": [
    {
     "name": "stdout",
     "output_type": "stream",
     "text": [
      "F-statistic:24.251183860655658\n",
      "P-value: 0.0\n"
     ]
    }
   ],
   "source": [
    "from scipy.stats import f_oneway\n",
    "nationalities = df['Nationality'].unique() # Get unique Countries\n",
    "anova_results = {} # Save anova results into a dictionary\n",
    "\n",
    "for nationality in nationalities:\n",
    "    group = df[df['Nationality'] == nationality]['↓OVA']\n",
    "    anova_results[nationality] = group\n",
    "f_statistic, p_value = f_oneway(*anova_results.values())\n",
    "print('F-statistic:{}'.format(f_statistic))\n",
    "print('P-value: {}'.format(p_value))\n"
   ]
  },
  {
   "attachments": {},
   "cell_type": "markdown",
   "metadata": {},
   "source": [
    "We can reject the null hypothesis. There is a signficiant difference in Overall Ratings between nationalities as the p-value is less than the alpha value. \n",
    "\n",
    "### Statistical Test 2: Is there a significant difference in the average age of players between FC Barcelona and Juventus? \n",
    "\n",
    "**Test: Independent two-sample t-test.**\n",
    "\n",
    "We can assume that there is a normal distribution of age within each team and independence of samples.\n",
    "The results below are for $$ \\alpha = 0.05 $$"
   ]
  },
  {
   "cell_type": "code",
   "execution_count": 37,
   "metadata": {},
   "outputs": [
    {
     "name": "stdout",
     "output_type": "stream",
     "text": [
      "T-statistic:-1.41349201401397\n",
      "P-value: 0.16341762792730494\n"
     ]
    }
   ],
   "source": [
    "from scipy.stats import ttest_ind\n",
    "\n",
    "barcelona_ages = df[df['Team'] == 'FC Barcelona ']['Age']\n",
    "juventus_ages = df[df['Team'] == 'Juventus ']['Age']\n",
    "t_stat, p_value = ttest_ind(barcelona_ages, juventus_ages, equal_var = False)\n",
    "print('T-statistic:{}'.format(t_stat))\n",
    "print('P-value: {}'.format(p_value))\n"
   ]
  },
  {
   "attachments": {},
   "cell_type": "markdown",
   "metadata": {},
   "source": [
    "We cannot reject the null hypothesis. There is no significant difference in the average age of players between FC Barcelona and Juventus.\n",
    "\n",
    "### Statistical Test 3: Is there a singificant relationship between a goalkeeper's height and their diving ability? \n",
    "\n",
    "**Test: Pearson correlation coefficient**\n",
    "\n",
    "We can assume linearity, normality, and homoscedasticity. "
   ]
  },
  {
   "cell_type": "code",
   "execution_count": 38,
   "metadata": {},
   "outputs": [
    {
     "name": "stdout",
     "output_type": "stream",
     "text": [
      "Correlation Coefficient: 0.12350369921438165\n"
     ]
    }
   ],
   "source": [
    "from scipy.stats import pearsonr\n",
    "goalkeeper_height = df[df['Positions'].str.contains('GK', case=False)] ['Height (ft)'] * 12 \n",
    "+df[df['Positions'].str.contains('GK', case=False)] ['Height (in)']\n",
    "goalkeeper_diving = df[df['Positions'].str.contains('GK', case=False)] ['GK Diving']\n",
    "correlation_coefficient, _ = pearsonr(goalkeeper_height, goalkeeper_diving)\n",
    "print(\"Correlation Coefficient: {}\".format(correlation_coefficient))\n",
    "\n"
   ]
  },
  {
   "attachments": {},
   "cell_type": "markdown",
   "metadata": {},
   "source": [
    "There is no strong linear relationship between a goalkeeper's height and their diving ability. \n",
    "\n",
    "### Statistical Test 4: Do players with high attacking skills tend to have lower defending skills? \n",
    "**Test: Spearman Rank Correlation**\n",
    "We can assume that there is a monotonic relationship and that there is an independence of observations.\n",
    "The results below are for $$ \\alpha = 0.05 $$"
   ]
  },
  {
   "cell_type": "code",
   "execution_count": 39,
   "metadata": {},
   "outputs": [
    {
     "name": "stdout",
     "output_type": "stream",
     "text": [
      "Correlation Coefficient: 0.19587559237875235\n",
      "P-Value: 1.792687946632558e-163\n"
     ]
    }
   ],
   "source": [
    "from scipy.stats import spearmanr\n",
    "\n",
    "player_skills_info = df[['Attacking', 'Defending']].dropna()\n",
    "correlation_coefficient, p_value = spearmanr(player_skills_info['Attacking'], player_skills_info['Defending'])\n",
    "print(\"Correlation Coefficient: {}\".format(correlation_coefficient))\n",
    "print(\"P-Value: {}\".format(p_value))"
   ]
  },
  {
   "attachments": {},
   "cell_type": "markdown",
   "metadata": {},
   "source": [
    "We can reject the null hypothesis. There is a significant correlaiton between attacking and defending skills.\n",
    "\n",
    "### Statistical Test 5: Can we predict a player's overall rating based on their different attributes?\n",
    "\n",
    "**Test: Linear Regression Model Using Sci-Kit Learn ML**"
   ]
  },
  {
   "cell_type": "code",
   "execution_count": 40,
   "metadata": {},
   "outputs": [
    {
     "name": "stdout",
     "output_type": "stream",
     "text": [
      "Mean Squared Error: 11.354564538176183\n",
      "R-squared: 0.7666698109050804\n"
     ]
    },
    {
     "data": {
      "image/png": "[encoded data removed]",
      "text/plain": [
       "<Figure size 640x480 with 1 Axes>"
      ]
     },
     "metadata": {},
     "output_type": "display_data"
    }
   ],
   "source": [
    "from sklearn.model_selection import train_test_split\n",
    "from sklearn.linear_model import LinearRegression\n",
    "from sklearn.metrics import mean_squared_error, r2_score\n",
    "\n",
    "attributes = ['PAC','SHO','PAS','DRI','DEF','PHY']  # Chosen attributes\n",
    "X = df[attributes]\n",
    "y = df['↓OVA']\n",
    "\n",
    "# Split the data into training and testing sets\n",
    "X_train, X_test, y_train, y_test = train_test_split(X, y, test_size=0.2, random_state=41)\n",
    "\n",
    "# Create and fit the linear regression model\n",
    "model = LinearRegression()\n",
    "model.fit(X_train, y_train)\n",
    "\n",
    "# Make predictions on the test set\n",
    "y_pred = model.predict(X_test)\n",
    "\n",
    "# Evaluate the model performance\n",
    "mse = mean_squared_error(y_test, y_pred)\n",
    "r2 = r2_score(y_test, y_pred)\n",
    "\n",
    "print(f'Mean Squared Error: {mse}')\n",
    "print(f'R-squared: {r2}')\n",
    "\n",
    "# Plot predicted vs actual values\n",
    "plt.scatter(y_test, y_pred)\n",
    "plt.xlabel('Actual Overall Rating')\n",
    "plt.ylabel('Predicted Overall Rating')\n",
    "plt.title('Actual vs Predicted Overall Rating')\n",
    "plt.show()\n"
   ]
  },
  {
   "attachments": {},
   "cell_type": "markdown",
   "metadata": {},
   "source": [
    "Conclusion: We can predict a player's overall rating based on their different attributes. "
   ]
  }
 ],
 "metadata": {
  "kernelspec": {
   "display_name": "base",
   "language": "python",
   "name": "python3"
  },
  "language_info": {
   "codemirror_mode": {
    "name": "ipython",
    "version": 3
   },
   "file_extension": ".py",
   "mimetype": "text/x-python",
   "name": "python",
   "nbconvert_exporter": "python",
   "pygments_lexer": "ipython3",
   "version": "3.9.7"
  },
  "orig_nbformat": 4
 },
 "nbformat": 4,
 "nbformat_minor": 2
}
